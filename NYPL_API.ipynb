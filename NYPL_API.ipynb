{
  "nbformat": 4,
  "nbformat_minor": 0,
  "metadata": {
    "colab": {
      "name": "NYPL-API.ipynb",
      "provenance": [],
      "collapsed_sections": []
    },
    "kernelspec": {
      "name": "python3",
      "display_name": "Python 3"
    },
    "language_info": {
      "name": "python"
    }
  },
  "cells": [
    {
      "cell_type": "code",
      "metadata": {
        "id": "Nc1VuryHEyj2"
      },
      "source": [
        "import requests\n",
        "import json\n",
        "import sys\n",
        "\n",
        "url = \"http://api.repo.nypl.org/api/v1/items/item_details/5e66b3e8-e3dd-d471-e040-e00a180654d7\"\n",
        "token = \"lywyv2u3dwrr1t5c\"\n",
        "headers = {'Authorization': 'Token token=%s' % token}"
      ],
      "execution_count": null,
      "outputs": []
    },
    {
      "cell_type": "code",
      "metadata": {
        "id": "VBalHt9Ncmnm"
      },
      "source": [
        "def parseData(resp):\n",
        "  if resp.status_code != 200:\n",
        "    raise Exception(\"not 200!\")\n",
        "  response = json.loads(resp.text)\n",
        "  if 'nyplAPI' in response:\n",
        "    data = response['nyplAPI']\n",
        "    if \"response\" in data:\n",
        "      data = data['response']\n",
        "    else:\n",
        "      raise ValueError(\"nyplAPI not in response!\")\n",
        "    return data\n",
        "  else:\n",
        "    print(response.text)\n",
        "    raise ValueError(\"not 200 or invalid response!\")\n",
        "    \n",
        "def fetchData(url):\n",
        "  resp = requests.get(url, headers=headers)\n",
        "  return parseData(resp)"
      ],
      "execution_count": null,
      "outputs": []
    },
    {
      "cell_type": "markdown",
      "metadata": {
        "id": "RbgG4_Y61dOx"
      },
      "source": [
        "## About the task"
      ]
    },
    {
      "cell_type": "markdown",
      "metadata": {
        "id": "KrilSMiG1I4K"
      },
      "source": [
        "We noticed our topic of interest is exactly a collection named [__Century Company Records__](https://digitalcollections.nypl.org/collections/century-company-records), so we can find uuid for that collection and work on that collection instead of working on search results."
      ]
    },
    {
      "cell_type": "markdown",
      "metadata": {
        "id": "XGXpjoCaoULu"
      },
      "source": [
        "## List all collections"
      ]
    },
    {
      "cell_type": "code",
      "metadata": {
        "colab": {
          "base_uri": "https://localhost:8080/"
        },
        "id": "o7J3bnGFj3NQ",
        "outputId": "998e35fd-dc18-4b5f-ba47-efc9867c00b2"
      },
      "source": [
        "all_coll = \"http://api.repo.nypl.org/api/v1/collections\"\n",
        "data = fetchData(all_coll)\n",
        "for d in data['collection']:\n",
        "  print(d)"
      ],
      "execution_count": null,
      "outputs": [
        {
          "output_type": "stream",
          "text": [
            "{'uuid': '16ad5350-c52e-012f-aecf-58d385a7bc34', 'apiUri': 'http://api.repo.nypl.org/api/v1/collections/16ad5350-c52e-012f-aecf-58d385a7bc34', 'title': 'Print Collection portrait file', 'numItems': '71791'}\n",
            "{'uuid': '2589a880-c52c-012f-2cb4-58d385a7bc34', 'apiUri': 'http://api.repo.nypl.org/api/v1/collections/2589a880-c52c-012f-2cb4-58d385a7bc34', 'title': 'Billy Rose Theatre Collection photograph file', 'numItems': '55009'}\n",
            "{'uuid': '0146e060-c530-012f-1e6f-58d385a7bc34', 'apiUri': 'http://api.repo.nypl.org/api/v1/collections/0146e060-c530-012f-1e6f-58d385a7bc34', 'title': 'Martha Swope photographs', 'numItems': '50740'}\n",
            "{'uuid': 'b50ab6f0-c52b-012f-5986-58d385a7bc34', 'apiUri': 'http://api.repo.nypl.org/api/v1/collections/b50ab6f0-c52b-012f-5986-58d385a7bc34', 'title': 'Cigarette cards', 'numItems': '49680'}\n",
            "{'uuid': '5261fd50-c52e-012f-85ec-58d385a7bc34', 'apiUri': 'http://api.repo.nypl.org/api/v1/collections/5261fd50-c52e-012f-85ec-58d385a7bc34', 'title': 'Robert N. Dennis collection of stereoscopic views', 'numItems': '42204'}\n",
            "{'uuid': '7a830280-c542-012f-b87c-58d385a7bc34', 'apiUri': 'http://api.repo.nypl.org/api/v1/collections/7a830280-c542-012f-b87c-58d385a7bc34', 'title': 'Friedman-Abeles photograph collection', 'numItems': '39878'}\n",
            "{'uuid': 'a301da20-c52e-012f-cc55-58d385a7bc34', 'apiUri': 'http://api.repo.nypl.org/api/v1/collections/a301da20-c52e-012f-cc55-58d385a7bc34', 'title': \"Photographic views of New York City, 1870's-1970's, from the collections of the New York Public Library\", 'numItems': '34733'}\n",
            "{'uuid': '79d4a650-c52e-012f-67ad-58d385a7bc34', 'apiUri': 'http://api.repo.nypl.org/api/v1/collections/79d4a650-c52e-012f-67ad-58d385a7bc34', 'title': 'Wallach Division Picture Collection', 'numItems': '34264'}\n",
            "{'uuid': '51894d20-c52f-012f-657d-58d385a7bc34', 'apiUri': 'http://api.repo.nypl.org/api/v1/collections/51894d20-c52f-012f-657d-58d385a7bc34', 'title': 'The Vinkhuijzen collection of military uniforms', 'numItems': '31267'}\n",
            "{'uuid': '80fa1460-c52f-012f-be77-58d385a7bc34', 'apiUri': 'http://api.repo.nypl.org/api/v1/collections/80fa1460-c52f-012f-be77-58d385a7bc34', 'title': 'Drugstore Photographs, Or, A Trip Along the Yangtze River, 1999, by Dylan Stone', 'numItems': '25428'}\n",
            "{'uuid': 'e5462600-c5d9-012f-a6a3-58d385a7bc34', 'apiUri': 'http://api.repo.nypl.org/api/v1/collections/e5462600-c5d9-012f-a6a3-58d385a7bc34', 'title': 'Farm Security Administration Photographs', 'numItems': '19556'}\n",
            "{'uuid': 'e5114e30-c52f-012f-993c-58d385a7bc34', 'apiUri': 'http://api.repo.nypl.org/api/v1/collections/e5114e30-c52f-012f-993c-58d385a7bc34', 'title': 'The Buttolph collection of menus', 'numItems': '19269'}\n",
            "{'uuid': 'cd0fd890-b0de-0133-ad22-00505686d14e', 'apiUri': 'http://api.repo.nypl.org/api/v1/collections/cd0fd890-b0de-0133-ad22-00505686d14e', 'title': 'Century Company records', 'numItems': '15058'}\n",
            "{'uuid': '1e6dd2f0-c530-012f-c1f8-58d385a7bc34', 'apiUri': 'http://api.repo.nypl.org/api/v1/collections/1e6dd2f0-c530-012f-c1f8-58d385a7bc34', 'title': \"New York World's Fair 1939-1940 records\", 'numItems': '13609'}\n",
            "{'uuid': 'de1dcfb0-c5f6-012f-1dfc-58d385a7bc34', 'apiUri': 'http://api.repo.nypl.org/api/v1/collections/de1dcfb0-c5f6-012f-1dfc-58d385a7bc34', 'title': 'Atlases of New York City', 'numItems': '11829'}\n",
            "{'uuid': '1a0528c0-0d47-0133-a1f0-58d385a7b928', 'apiUri': 'http://api.repo.nypl.org/api/v1/collections/1a0528c0-0d47-0133-a1f0-58d385a7b928', 'title': 'Morris Huberland ', 'numItems': '9248'}\n",
            "{'uuid': '491273d0-c605-012f-4af6-58d385a7bc34', 'apiUri': 'http://api.repo.nypl.org/api/v1/collections/491273d0-c605-012f-4af6-58d385a7bc34', 'title': 'Emmet Collection of Manuscripts Etc. Relating to American History', 'numItems': '8980'}\n",
            "{'uuid': 'd5e04a00-c61a-012f-127f-58d385a7bc34', 'apiUri': 'http://api.repo.nypl.org/api/v1/collections/d5e04a00-c61a-012f-127f-58d385a7bc34', 'title': 'Kenn Duncan Photograph Archive, ca. 1960-1986', 'numItems': '7068'}\n",
            "{'uuid': 'bc9cb190-c598-012f-9f74-58d385a7bc34', 'apiUri': 'http://api.repo.nypl.org/api/v1/collections/bc9cb190-c598-012f-9f74-58d385a7bc34', 'title': 'Joseph Muller collection of music and other portraits', 'numItems': '6247'}\n",
            "{'uuid': '439afdd0-c62b-012f-66d1-58d385a7bc34', 'apiUri': 'http://api.repo.nypl.org/api/v1/collections/439afdd0-c62b-012f-66d1-58d385a7bc34', 'title': 'Detroit Publishing Company postcards', 'numItems': '5781'}\n",
            "{'uuid': '26818d00-c611-012f-a212-58d385a7bc34', 'apiUri': 'http://api.repo.nypl.org/api/v1/collections/26818d00-c611-012f-a212-58d385a7bc34', 'title': '\"The Pageant of America\" Collection', 'numItems': '5654'}\n",
            "{'uuid': '02d1c8f0-c52d-012f-a615-58d385a7bc34', 'apiUri': 'http://api.repo.nypl.org/api/v1/collections/02d1c8f0-c52d-012f-a615-58d385a7bc34', 'title': 'Thomas Addis Emmet collection', 'numItems': '5184'}\n",
            "{'uuid': '35301010-c58d-012f-1196-58d385a7bc34', 'apiUri': 'http://api.repo.nypl.org/api/v1/collections/35301010-c58d-012f-1196-58d385a7bc34', 'title': 'American popular songs', 'numItems': '4929'}\n",
            "{'uuid': '2600a3f0-c5ec-012f-424e-58d385a7bc34', 'apiUri': 'http://api.repo.nypl.org/api/v1/collections/2600a3f0-c5ec-012f-424e-58d385a7bc34', 'title': 'Atlases of the United States', 'numItems': '3912'}\n",
            "{'uuid': '8f3e9bb0-c623-012f-5ab6-58d385a7bc34', 'apiUri': 'http://api.repo.nypl.org/api/v1/collections/8f3e9bb0-c623-012f-5ab6-58d385a7bc34', 'title': 'Benjamin K. Miller collection of United States stamps', 'numItems': '3870'}\n"
          ],
          "name": "stdout"
        }
      ]
    },
    {
      "cell_type": "markdown",
      "metadata": {
        "id": "hwBdpKyfoXpt"
      },
      "source": [
        "And we found the wanted century company record is right there with apiUri `http://api.repo.nypl.org/api/v1/collections/cd0fd890-b0de-0133-ad22-00505686d14e` and UUID `cd0fd890-b0de-0133-ad22-00505686d14e`."
      ]
    },
    {
      "cell_type": "markdown",
      "metadata": {
        "id": "affPR28oolAa"
      },
      "source": [
        "## List all children cpatures for the collection uuid"
      ]
    },
    {
      "cell_type": "markdown",
      "metadata": {
        "id": "8NFVQKU8uJ5q"
      },
      "source": [
        "Method 8 provides a way to list all its childrens under specific uuid. Try it."
      ]
    },
    {
      "cell_type": "code",
      "metadata": {
        "colab": {
          "base_uri": "https://localhost:8080/",
          "height": 137
        },
        "id": "D1VHICvGoulK",
        "outputId": "eefe46b7-ae74-4ebe-e34d-e09c11ac21ae"
      },
      "source": [
        "method8 = \"http://api.repo.nypl.org/api/v1/collections/cd0fd890-b0de-0133-ad22-00505686d14e\"\n",
        "data = fetchData(method8)\n",
        "json.dumps(data)\n",
        "# [print(d) for d in data['collection']]"
      ],
      "execution_count": null,
      "outputs": [
        {
          "output_type": "execute_result",
          "data": {
            "application/vnd.google.colaboratory.intrinsic+json": {
              "type": "string"
            },
            "text/plain": [
              "'{\"headers\": {\"status\": \"success\", \"code\": \"200\", \"message\": \"ok\"}, \"numSubCollections\": \"8\", \"numItems\": \"15774\", \"numResults\": \"8\", \"collection\": [{\"apiUri\": \"http://api.repo.nypl.org/api/v1/mods/aa361060-b0e0-0133-c465-00505686d14e\", \"levelUri\": \"http://api.repo.nypl.org/api/v1/collections/aa361060-b0e0-0133-c465-00505686d14e\", \"uuid\": \"aa361060-b0e0-0133-c465-00505686d14e\", \"type\": \"Container\", \"numSubCollections\": \"0\", \"numItems\": \"13782\", \"depth\": \"2\", \"parentUUIDs\": \"[\\\\\"cd0fd890-b0de-0133-ad22-00505686d14e\\\\\"]\", \"isPartOfSequence\": \"true\", \"firstInSequence\": \"aa361060-b0e0-0133-c465-00505686d14e\", \"totalInSequence\": \"8\", \"orderInSequence\": \"1\", \"mods\": {\"titleInfo\": {\"title\": \"Series I. General Correspondence\", \"type\": \"\", \"authority\": \"\", \"usage\": \"primary\", \"lang\": \"eng\", \"script\": \"\"}, \"typeOfResource\": \"text\", \"genre\": \"Correspondence\", \"originInfo\": {\"dateCreated\": [\"1870\", \"1930\"]}, \"language\": {\"languageTerm\": [\"eng\", \"English\"], \"objectPart\": \"\"}, \"physicalDescription\": {\"extent\": \"116 boxes\"}, \"abstract\": \"Series I consists of correspondence with contributors, or potential contributors to the Century Illustrated Monthly Magazine, and makes up the bulk of the collection. The files, arranged alphabetically by name of correspondent, largely contain incoming letters. However copies and originals of outgoing correspondence are present. Files also contain manuscripts, galleys (both master and author), page proofs, photographs, illustrations, booklets, and circulars.\\\\r\\\\nIn some cases, files hold material emanating from the company\\\\u2019s other publications, such as St. Nicholas magazine, as in the William Fayal Clarke file. Interoffice correspondence and memoranda are filed under the names of editors and other Century staff, including Richard Watson Gilder, Robert Underwood Johnson, Clarence Clough Buel, William Webster Ellsworth, Sophie Bledsoe Herrick, Alexander Drake, and Timothy Cole. Some annotations by office staff are in shorthand.\\\\r\\\\nThe Century magazine, and the subsequent books published from its serialized articles, were popular with a largely middle to upper-middle class readership. Correspondents include major writers, literary agents, civic and religious figures, scientists, inventors, and artists. Some larger files span a decade or more and show the development of relationships between editors and the author on a business and personal level, such as Mariana Van Rensselaer, Andr\\\\u00e9 Castaigne, Eliza Ruhamah Scidmore, and Anne Warner French.\\\\r\\\\nCorrespondence illuminates the thoughts, reasoning, and process for editorial decision making, whilst annotations and notes on letters from editorial staff to one another provide candid insights into the philosophy and values of the editors and also the pragmatic side of internal office workings. Gilder and Johnson, published poets themselves, meticulously revised and edited contributions of verse. This is evidenced in the letters from authors giving their reasons for rejecting or acquiescing to editorial suggestions. Some files include manuscript proofs that contain the blue-pencil markups of the editors, but their efforts are primarily documented in the letters of the authors, which are largely approving and appreciative. Gilder\\\\u2019s editorial style took consideration of reader\\\\u2019s sensibilities, often editing manuscripts for taste and standards, removing suggestive or potentially contentious matter.\\\\r\\\\nCorrespondence with literary agents such as Flora May Holly, Jeanette Gilder (Richard Watson Gilder\\\\u2019s sister), and A. P. Watt; and publishers such as Henry Holt & Co.; Houghton, Mifflin & Co.; McClure\\\\u2019s; and Curtis Brown document the nature and functioning of the marketplace for literary works in North America at the turn of the century. Watt\\\\u2019s file contains letters and telegrams offering material and negotiating terms for authors such as Arthur Conan Doyle, Rudyard Kipling, and Brett Harte. Such correspondence includes discussion on pricing and rights, author attitudes to editorial suggestions, and illuminates editorial decision-making via memos from staff to one another as annotations on letters.\\\\r\\\\nThe changing political and social values of the time and the handling of those concerns by a major mainstream literary publication are documented in correspondence with civic reform leaders, religious and charity groups, scientists, and politicians. Critical reception of certain articles, editorials and editorial choices are documented in incoming letters, for example from W. E. B. Du Bois, Henry Fairfield Osborn, and Edna Kenton. Articles such as \\\\u201cTaking the Ambition out of the Working Man\\\\u201d which criticized labor union movements; and \\\\u201cMilitant Women and Women\\\\u201d on feminism and the suffrage movement garnered many positive and negative responses that are scattered throughout this series.\\\\r\\\\nCorrespondence with scientists and inventors document the editors\\' efforts to solicit articles on notable new inventions and discoveries. Examples include the Wright Brothers and Alexander Graham Bell on early flight experiments; Louis Boutan on underwater and John G. Doughty on aerial photography; and Thomas Edison on the kineto-phonograph.\\\\r\\\\nThe editors\\' exacting concerns with style, format, and reproduction of images are evident in correspondence with the Century Company\\\\u2019s printer De Vinne Press, including discussions of grammar and usage, layouts, typeface choices, and printing rates. The importance of visual aesthetics to the editors and the control they sought to exert on the finished product is apparent in correspondence with contributing artists such as Joseph Pennell, Timothy Cole, Andre Castaigne, and Thornton Oakley.\\\\r\\\\nCorrespondence with experts in various fields, to whom the magazine sent unpublished manuscripts for review, demonstrates the lengths to which the editors went in ensuring factual accuracy, including in fiction and poetry. This is documented in the correspondence of Henry Fairfield Osborn, William James Stillman, Okakura Kakuzo, and Worthington Chauncey Ford among others. Some author files contain complaints and corrections of articles by these third party experts, often alongside the author\\\\u2019s objections to or acceptance of criticisms. These are especially evident with subjects that generated strong opinion such as events surrounding the Civil War and the Century\\\\u2019s related series of 1884-1887.\\\\r\\\\nGilder and Johnson\\'s sympathy with various progressive era institutions and associations is documented through letters from charity groups, government commissions, societies, and clubs that were active during this era, such as the New York Association for the Blind, of which Gilder was the president. A number of files contain correspondence from such associations soliciting magazine space, endorsement by the editors, or money, as in letters from representatives of the Red Cross Society, the International Peace Forum, and Women\\'s Suffrage Associations.\\\\r\\\\nThis series contains character references that were requested by the magazine before publishing an unknown writer\\\\u2019s work, and are usually filed under the author\\'s name. There are also a number of letters from family members or managers of estates of literary figures, and participants in the Civil War, offering their diaries, letters, and other original documents.\\\\r\\\\nEditorship of the magazine changed hands several times after 1913. Succeeding Johnson was Robert Sterling Yard who left after one year, then Douglas Z. Doty who remained until 1918 and was followed by Thomas H. Smith and W. Morgan Shuster, each staying only one year, then Glen Frank, and Hewitt H. Howland. Yard and Doty expressed their intentions to change the editorial direction of the magazine in letters to contributors, and also in published editorials. The reactions to these changes are reflected in letters from readers and writers, and in annotations and correspondence from staff.\\\\r\\\\nYears in parentheses indicate birth and death dates. Documents dating from before July 1888 may have fire, smoke and/or water damage.\", \"identifier\": [\"b11652262\", \"504\", \"17623\", \"archives_components_1139437\", \"aa361060-b0e0-0133-c465-00505686d14e\"], \"location\": {\"physicalLocation\": [\"nn\", \"Manuscripts and Archives Division\", \"Manuscripts and Archives Division\", \"MSS\"], \"shelfLocator\": \"MssCol 504\"}, \"relatedItem\": {\"titleInfo\": {\"title\": \"Century Company records\"}, \"identifier\": [\"cd0fd890-b0de-0133-ad22-00505686d14e\", \"b11652262 local_mss\"], \"type\": \"host\"}, \"xmlns:xsi\": \"http://www.w3.org/2001/XMLSchema-instance\", \"xmlns\": \"http://www.loc.gov/mods/v3\", \"version\": \"3.4\", \"xsi:schemaLocation\": \"http://www.loc.gov/mods/v3 http://www.loc.gov/standards/mods/v3/mods-3-4.xsd\"}}, {\"apiUri\": \"http://api.repo.nypl.org/api/v1/mods/acfdf1b0-b0e0-0133-9751-00505686d14e\", \"levelUri\": \"http://api.repo.nypl.org/api/v1/collections/acfdf1b0-b0e0-0133-9751-00505686d14e\", \"uuid\": \"acfdf1b0-b0e0-0133-9751-00505686d14e\", \"type\": \"Container\", \"numSubCollections\": \"3\", \"numItems\": \"1441\", \"depth\": \"2\", \"parentUUIDs\": \"[\\\\\"cd0fd890-b0de-0133-ad22-00505686d14e\\\\\"]\", \"isPartOfSequence\": \"true\", \"firstInSequence\": \"aa361060-b0e0-0133-c465-00505686d14e\", \"totalInSequence\": \"8\", \"orderInSequence\": \"2\", \"mods\": {\"titleInfo\": {\"title\": \"Series II. Civil War Series\", \"type\": \"\", \"authority\": \"\", \"usage\": \"primary\", \"lang\": \"eng\", \"script\": \"\"}, \"typeOfResource\": \"text\", \"originInfo\": {\"dateCreated\": [\"1884\", \"1910\"]}, \"language\": {\"languageTerm\": [\"eng\", \"English\"], \"objectPart\": \"\"}, \"physicalDescription\": {\"extent\": \"17 boxes\"}, \"abstract\": \"Series II consists of correspondence, manuscripts, proofs, notes, lists, memoranda, and printed matter emanating from the Century \\\\\"War Series\\\\\" and the resulting book, Battles and Leaders of the Civil War. Most of the material dates from 1885 to 1891.\", \"identifier\": [\"b11652262\", \"504\", \"31128\", \"archives_components_1152939\", \"acfdf1b0-b0e0-0133-9751-00505686d14e\"], \"location\": {\"physicalLocation\": [\"nn\", \"Manuscripts and Archives Division\", \"Manuscripts and Archives Division\", \"MSS\"], \"shelfLocator\": \"MssCol 504\"}, \"relatedItem\": {\"titleInfo\": {\"title\": \"Century Company records\"}, \"identifier\": [\"cd0fd890-b0de-0133-ad22-00505686d14e\", \"b11652262 local_mss\"], \"type\": \"host\"}, \"xmlns:xsi\": \"http://www.w3.org/2001/XMLSchema-instance\", \"xmlns\": \"http://www.loc.gov/mods/v3\", \"version\": \"3.4\", \"xsi:schemaLocation\": \"http://www.loc.gov/mods/v3 http://www.loc.gov/standards/mods/v3/mods-3-4.xsd\"}}, {\"apiUri\": \"http://api.repo.nypl.org/api/v1/mods/ae1fda50-b0e0-0133-a700-00505686d14e\", \"levelUri\": \"http://api.repo.nypl.org/api/v1/collections/ae1fda50-b0e0-0133-a700-00505686d14e\", \"uuid\": \"ae1fda50-b0e0-0133-a700-00505686d14e\", \"type\": \"Container\", \"numSubCollections\": \"30\", \"numItems\": \"236\", \"depth\": \"2\", \"parentUUIDs\": \"[\\\\\"cd0fd890-b0de-0133-ad22-00505686d14e\\\\\"]\", \"isPartOfSequence\": \"true\", \"firstInSequence\": \"aa361060-b0e0-0133-c465-00505686d14e\", \"totalInSequence\": \"8\", \"orderInSequence\": \"3\", \"mods\": {\"titleInfo\": {\"title\": \"Series III. Manuscripts and Proofs\", \"type\": \"\", \"authority\": \"\", \"usage\": \"primary\", \"lang\": \"eng\", \"script\": \"\"}, \"typeOfResource\": \"text\", \"genre\": \"Manuscripts\", \"originInfo\": {\"dateCreated\": [\"1870\", \"1900\"]}, \"language\": {\"languageTerm\": [\"eng\", \"English\"], \"objectPart\": \"\"}, \"physicalDescription\": {\"extent\": \"7 boxes\"}, \"abstract\": \"Series III contains handwritten, signed manuscripts that were submitted to Scribner\\'s Monthly or the Century Magazine. Many of the manuscripts were not published by the Century Company and may be marked as \\\\u201cdead.\\\\u201d These files may contain amendments and commentary from manuscript readers and editors concerning the works, documenting the exercise of tight editorial control. Notable contributors in this series include Josiah Gilbert Holland, Saxe Holm (Helen Hunt Jackson), Washington Gladden, Elizabeth Robins Pennell, Jacob Riis, Elizabeth Stuart Phelps Ward, and Mary Eleanor Freeman (Wilkins).\\\\n\\\\nA portion of the heavily edited manuscript of Horace Porter\\'s Campaigning With Grant, which was published as a book by the Century Company in 1897, is filed at the end of the series.\\\\n\\\\nMaterial with no note of authorship is found at the end of the series. Many items are undated and the approximate dates of \\\\u201ccirca 1870-1900\\\\u201d has been given. Files beginning with \\\\u201cT\\\\u201d or \\\\u201cU\\\\u201d were not received by the library.\", \"identifier\": [\"b11652262\", \"504\", \"32557\", \"archives_components_1154368\", \"ae1fda50-b0e0-0133-a700-00505686d14e\"], \"location\": {\"physicalLocation\": [\"nn\", \"Manuscripts and Archives Division\", \"Manuscripts and Archives Division\", \"MSS\"], \"shelfLocator\": \"MssCol 504\"}, \"relatedItem\": {\"titleInfo\": {\"title\": \"Century Company records\"}, \"identifier\": [\"cd0fd890-b0de-0133-ad22-00505686d14e\", \"b11652262 local_mss\"], \"type\": \"host\"}, \"xmlns:xsi\": \"http://www.w3.org/2001/XMLSchema-instance\", \"xmlns\": \"http://www.loc.gov/mods/v3\", \"version\": \"3.4\", \"xsi:schemaLocation\": \"http://www.loc.gov/mods/v3 http://www.loc.gov/standards/mods/v3/mods-3-4.xsd\"}}, {\"apiUri\": \"http://api.repo.nypl.org/api/v1/mods/b38f9d40-b0e0-0133-9d8b-00505686d14e\", \"levelUri\": \"http://api.repo.nypl.org/api/v1/collections/b38f9d40-b0e0-0133-9d8b-00505686d14e\", \"uuid\": \"b38f9d40-b0e0-0133-9d8b-00505686d14e\", \"type\": \"Container\", \"numSubCollections\": \"1\", \"numItems\": \"220\", \"depth\": \"2\", \"parentUUIDs\": \"[\\\\\"cd0fd890-b0de-0133-ad22-00505686d14e\\\\\"]\", \"isPartOfSequence\": \"true\", \"firstInSequence\": \"aa361060-b0e0-0133-c465-00505686d14e\", \"totalInSequence\": \"8\", \"orderInSequence\": \"4\", \"mods\": {\"titleInfo\": {\"title\": \"Series IV. St. Nicholas Magazine\", \"type\": \"\", \"authority\": \"\", \"usage\": \"primary\", \"lang\": \"eng\", \"script\": \"\"}, \"typeOfResource\": \"text\", \"genre\": [\"Manuscripts\", \"Correspondence\"], \"originInfo\": {\"dateCreated\": [\"1884\", \"1937\"]}, \"language\": {\"languageTerm\": [\"eng\", \"English\"], \"objectPart\": \"\"}, \"physicalDescription\": {\"extent\": \"8 boxes\"}, \"abstract\": \"Series IV contains correspondence, manuscripts, and vouchers for St. Nicholas, the Century Company\\\\u2019s magazine for children. The majority of the files date from 1917 to 1918. This series holds letters from juvenile readers that were edited for printing in the magazine\\\\u2019s \\\\u201cLetter Box\\\\u201d segment. Correspondence includes copies of responses from the magazine and show editorial processes such as fact checking (even for fictional material) and payment amounts. A focus on America\\\\u2019s involvement in World War I and the wartime roles young people could play in the military effort is reflected in most of the submissions and letters in this series, both from authors and young readers.\\\\n\\\\nGovernment censorship and official approval of war-related material is discussed in correspondence with authors, such as Mary Graham Bonner and R. P. Crawford. Notable names in this series include John T. Trowbridge, Elizabeth Stuart Phelps Ward, Carolyn Wells, and Augusta Huiell Seaman. Some files include illustrations and photographs.\", \"subject\": {\"titleInfo\": {\"title\": \"\\\\r\\\\n      St. Nicholas Magazine\\\\r\\\\n    \"}, \"authority\": \"\"}, \"identifier\": [\"b11652262\", \"504\", \"32812\", \"archives_components_1154621\", \"b38f9d40-b0e0-0133-9d8b-00505686d14e\"], \"location\": {\"physicalLocation\": [\"nn\", \"Manuscripts and Archives Division\", \"Manuscripts and Archives Division\", \"MSS\"], \"shelfLocator\": \"MssCol 504\"}, \"relatedItem\": {\"titleInfo\": {\"title\": \"Century Company records\"}, \"identifier\": [\"cd0fd890-b0de-0133-ad22-00505686d14e\", \"b11652262 local_mss\"], \"type\": \"host\"}, \"xmlns:xsi\": \"http://www.w3.org/2001/XMLSchema-instance\", \"xmlns\": \"http://www.loc.gov/mods/v3\", \"version\": \"3.4\", \"xsi:schemaLocation\": \"http://www.loc.gov/mods/v3 http://www.loc.gov/standards/mods/v3/mods-3-4.xsd\"}}, {\"apiUri\": \"http://api.repo.nypl.org/api/v1/mods/bb739030-b0e0-0133-bf66-00505686d14e\", \"levelUri\": \"http://api.repo.nypl.org/api/v1/collections/bb739030-b0e0-0133-bf66-00505686d14e\", \"uuid\": \"bb739030-b0e0-0133-bf66-00505686d14e\", \"type\": \"Container\", \"numSubCollections\": \"0\", \"numItems\": \"38\", \"depth\": \"2\", \"parentUUIDs\": \"[\\\\\"cd0fd890-b0de-0133-ad22-00505686d14e\\\\\"]\", \"isPartOfSequence\": \"true\", \"firstInSequence\": \"aa361060-b0e0-0133-c465-00505686d14e\", \"totalInSequence\": \"8\", \"orderInSequence\": \"5\", \"mods\": {\"titleInfo\": {\"title\": \"Series V. Spanish-American War\", \"type\": \"\", \"authority\": \"\", \"usage\": \"primary\", \"lang\": \"eng\", \"script\": \"\"}, \"typeOfResource\": \"text\", \"genre\": \"Correspondence\", \"originInfo\": {\"dateCreated\": [\"1898\", \"1899\"]}, \"language\": {\"languageTerm\": [\"eng\", \"English\"], \"objectPart\": \"\"}, \"physicalDescription\": {\"extent\": \"0.3 boxes\"}, \"abstract\": \"The Spanish-American War Series of articles (1899-1901), modeled on the Civil War Series, proved less successful than its celebrated predecessor. Series V contains first and secondhand accounts of events in the Spanish-American War, replies to requests for articles, and commentary from readers on the Century\\\\u2019s coverage of the War. Letters from Howard Freeman Sprague, who was commissioned to provide illustrations for the magazine, include descriptions of life onboard the Saint Paul, accounts of engagements in the War - with drawings, and references to yellow fever amongst the soldiers.\", \"subject\": {\"topic\": \"Spanish-American War, 1898\", \"authority\": \"lcsh\", \"valueURI\": \"http://id.loc.gov/authorities/subjects/sh85140286\"}, \"identifier\": [\"b11652262\", \"504\", \"33025\", \"archives_components_1154834\", \"bb739030-b0e0-0133-bf66-00505686d14e\"], \"location\": {\"physicalLocation\": [\"nn\", \"Manuscripts and Archives Division\", \"Manuscripts and Archives Division\", \"MSS\"], \"shelfLocator\": \"MssCol 504\"}, \"relatedItem\": {\"titleInfo\": {\"title\": \"Century Company records\"}, \"identifier\": [\"cd0fd890-b0de-0133-ad22-00505686d14e\", \"b11652262 local_mss\"], \"type\": \"host\"}, \"xmlns:xsi\": \"http://www.w3.org/2001/XMLSchema-instance\", \"xmlns\": \"http://www.loc.gov/mods/v3\", \"version\": \"3.4\", \"xsi:schemaLocation\": \"http://www.loc.gov/mods/v3 http://www.loc.gov/standards/mods/v3/mods-3-4.xsd\"}}, {\"apiUri\": \"http://api.repo.nypl.org/api/v1/mods/bdeb7850-b0e0-0133-3a61-00505686d14e\", \"levelUri\": \"http://api.repo.nypl.org/api/v1/collections/bdeb7850-b0e0-0133-3a61-00505686d14e\", \"uuid\": \"bdeb7850-b0e0-0133-3a61-00505686d14e\", \"type\": \"Container\", \"numSubCollections\": \"0\", \"numItems\": \"43\", \"depth\": \"2\", \"parentUUIDs\": \"[\\\\\"cd0fd890-b0de-0133-ad22-00505686d14e\\\\\"]\", \"isPartOfSequence\": \"true\", \"firstInSequence\": \"aa361060-b0e0-0133-c465-00505686d14e\", \"totalInSequence\": \"8\", \"orderInSequence\": \"6\", \"mods\": {\"titleInfo\": {\"title\": \"Series VI. Yosemite National Park\", \"type\": \"\", \"authority\": \"\", \"usage\": \"primary\", \"lang\": \"eng\", \"script\": \"\"}, \"typeOfResource\": \"text\", \"genre\": \"Correspondence\", \"originInfo\": {\"dateCreated\": [\"1889\", \"1893\"]}, \"language\": {\"languageTerm\": [\"eng\", \"English\"], \"objectPart\": \"\"}, \"physicalDescription\": {\"extent\": \"0.3 boxes\"}, \"abstract\": \"In 1889, Robert Underwood Johnson took a pack trip through the Yosemite country in California with John Muir. He was so impressed with the devastation being wrought by thousands of grazing sheep that he outlined two Century articles for Muir, enlisted Gilder\\'s support, and in the next year was largely instrumental in persuading congress to create Yosemite National Park. Thereafter, Johnson and the Century continued to work for the cause of forest conservation.\\\\n\\\\nThe letters in Series VI document the efforts of Johnson and supporters to protect Yosemite and the Mariposa Grove of giant sequoia trees, and to bring them under federal rather than state management. They are mostly addressed to Robert Underwood Johnson personally. Correspondence includes copies of and commentary on letters, editorials, and articles published in leading papers of the day. The letters of George D. Mackenzie and C. D. Robinson, in particular, demonstrate the strength of emotion felt towards the issue and are highly critical of leading figures in the South Pacific Rail Road and state government of California. The telegram informing Johnson that the Yosemite bill was passed is included. Notable names include Frederic Law Olmsted and John P. Irish.\", \"subject\": {\"geographic\": \"Yosemite National Park (Calif.)\", \"authority\": \"lcsh\", \"valueURI\": \"http://id.loc.gov/authorities/subjects/sh2005004897\"}, \"identifier\": [\"b11652262\", \"504\", \"33060\", \"archives_components_1154869\", \"bdeb7850-b0e0-0133-3a61-00505686d14e\"], \"location\": {\"physicalLocation\": [\"nn\", \"Manuscripts and Archives Division\", \"Manuscripts and Archives Division\", \"MSS\"], \"shelfLocator\": \"MssCol 504\"}, \"relatedItem\": {\"titleInfo\": {\"title\": \"Century Company records\"}, \"identifier\": [\"cd0fd890-b0de-0133-ad22-00505686d14e\", \"b11652262 local_mss\"], \"type\": \"host\"}, \"xmlns:xsi\": \"http://www.w3.org/2001/XMLSchema-instance\", \"xmlns\": \"http://www.loc.gov/mods/v3\", \"version\": \"3.4\", \"xsi:schemaLocation\": \"http://www.loc.gov/mods/v3 http://www.loc.gov/standards/mods/v3/mods-3-4.xsd\"}}, {\"apiUri\": \"http://api.repo.nypl.org/api/v1/mods/c0443970-b0e0-0133-348b-00505686d14e\", \"levelUri\": \"http://api.repo.nypl.org/api/v1/collections/c0443970-b0e0-0133-348b-00505686d14e\", \"uuid\": \"c0443970-b0e0-0133-348b-00505686d14e\", \"type\": \"Container\", \"numSubCollections\": \"0\", \"numItems\": \"9\", \"depth\": \"2\", \"parentUUIDs\": \"[\\\\\"cd0fd890-b0de-0133-ad22-00505686d14e\\\\\"]\", \"isPartOfSequence\": \"true\", \"firstInSequence\": \"aa361060-b0e0-0133-c465-00505686d14e\", \"totalInSequence\": \"8\", \"orderInSequence\": \"7\", \"mods\": {\"titleInfo\": {\"title\": \"Series VII. Editorial and Administrative Files\", \"type\": \"\", \"authority\": \"\", \"usage\": \"primary\", \"lang\": \"eng\", \"script\": \"\"}, \"typeOfResource\": \"text\", \"genre\": [\"Documents\", \"Correspondence\", \"vouchers (sales records)\", \"Ephemera\", \"lists (documents genres)\", \"Manuscripts\"], \"originInfo\": {\"dateCreated\": [\"1874\", \"1920\"]}, \"language\": {\"languageTerm\": [\"eng\", \"English\"], \"objectPart\": \"\"}, \"physicalDescription\": {\"extent\": \"0.3 boxes.\"}, \"abstract\": \"This Series contains a small number of miscellaneous items. It includes vouchers for payments to authors for material published in Scribner\\\\u2019s Monthly dated 1874 to 1878; material for the \\\\u201cHome and Society\\\\u201d editorial department which includes lists of articles, manuscripts, and manuscript fragments; responses to the Century\\\\u2019s investigations into fraternities at women\\\\u2019s colleges; letters from librarians in response to a question asking if books on the French Revolution are frequently borrowed; and a folder of responses from senior classes at U.S. colleges regarding their future occupations.\", \"identifier\": [\"b11652262\", \"504\", \"33086\", \"archives_components_1154895\", \"c0443970-b0e0-0133-348b-00505686d14e\"], \"location\": {\"physicalLocation\": [\"nn\", \"Manuscripts and Archives Division\", \"Manuscripts and Archives Division\", \"MSS\"], \"shelfLocator\": \"MssCol 504\"}, \"relatedItem\": {\"titleInfo\": {\"title\": \"Century Company records\"}, \"identifier\": [\"cd0fd890-b0de-0133-ad22-00505686d14e\", \"b11652262 local_mss\"], \"type\": \"host\"}, \"xmlns:xsi\": \"http://www.w3.org/2001/XMLSchema-instance\", \"xmlns\": \"http://www.loc.gov/mods/v3\", \"version\": \"3.4\", \"xsi:schemaLocation\": \"http://www.loc.gov/mods/v3 http://www.loc.gov/standards/mods/v3/mods-3-4.xsd\"}}, {\"apiUri\": \"http://api.repo.nypl.org/api/v1/mods/c1976950-b0e0-0133-e8bb-00505686d14e\", \"levelUri\": \"http://api.repo.nypl.org/api/v1/collections/c1976950-b0e0-0133-e8bb-00505686d14e\", \"uuid\": \"c1976950-b0e0-0133-e8bb-00505686d14e\", \"type\": \"Container\", \"numSubCollections\": \"0\", \"numItems\": \"3\", \"depth\": \"2\", \"parentUUIDs\": \"[\\\\\"cd0fd890-b0de-0133-ad22-00505686d14e\\\\\"]\", \"isPartOfSequence\": \"true\", \"firstInSequence\": \"aa361060-b0e0-0133-c465-00505686d14e\", \"totalInSequence\": \"8\", \"orderInSequence\": \"8\", \"mods\": {\"titleInfo\": {\"title\": \"Series VIII. Permit Books\", \"type\": \"\", \"authority\": \"\", \"usage\": \"primary\", \"lang\": \"eng\", \"script\": \"\"}, \"typeOfResource\": [\"text\", \"still image\"], \"genre\": [\"Indexes\", \"Correspondence\", \"Illustrations\", \"Portraits\", \"Photographs\", \"Clippings\", \"Telegrams\", \"Envelopes\", \"invoices\", \"permissions\"], \"originInfo\": {\"dateCreated\": [\"1904\", \"1924\"]}, \"language\": [{\"languageTerm\": [\"ger\", \"German\"], \"objectPart\": \"\"}, {\"languageTerm\": [\"fre\", \"French\"], \"objectPart\": \"\"}, {\"languageTerm\": [\"eng\", \"English\"], \"usage\": \"primary\", \"objectPart\": \"\"}], \"physicalDescription\": {\"extent\": \"2 boxes\"}, \"abstract\": \"The Permit Books contain requests to owners, art dealers, photographers, publishers, and agents for permission to reproduce art and documents in their publications. The permit books include correspondence, reproductions of the art in question, receipts, and notes. Both boxes include an index to the permit book, with contributors of art works listed alphabetically.\", \"identifier\": [\"b11652262\", \"504\", \"33087\", \"archives_components_1154896\", \"c1976950-b0e0-0133-e8bb-00505686d14e\"], \"location\": {\"physicalLocation\": [\"nn\", \"Manuscripts and Archives Division\", \"Manuscripts and Archives Division\", \"MSS\"], \"shelfLocator\": \"MssCol 504\"}, \"relatedItem\": {\"titleInfo\": {\"title\": \"Century Company records\"}, \"identifier\": [\"cd0fd890-b0de-0133-ad22-00505686d14e\", \"b11652262 local_mss\"], \"type\": \"host\"}, \"xmlns:xsi\": \"http://www.w3.org/2001/XMLSchema-instance\", \"xmlns\": \"http://www.loc.gov/mods/v3\", \"version\": \"3.4\", \"xsi:schemaLocation\": \"http://www.loc.gov/mods/v3 http://www.loc.gov/standards/mods/v3/mods-3-4.xsd\"}}]}'"
            ]
          },
          "metadata": {
            "tags": []
          },
          "execution_count": 6
        }
      ]
    },
    {
      "cell_type": "markdown",
      "metadata": {
        "id": "yNwRifzCvNVa"
      },
      "source": [
        "> You can open [Online Json Viewer](https://www.bejson.com/jsonviewernew/) to check the content of a json repsonse."
      ]
    },
    {
      "cell_type": "markdown",
      "metadata": {
        "id": "8QwVp20UpZ5j"
      },
      "source": [
        "You see, it returns all 8 subcollections from the main collection `cd0fd890-b0de-0133-ad22-00505686d14e`. If we want all its cuptures, then we have to walk through all these subcollections. \n",
        "\n",
        "We noticed Method4 provides a way to list captures directly under some specific uuid. Let's try it."
      ]
    },
    {
      "cell_type": "code",
      "metadata": {
        "colab": {
          "base_uri": "https://localhost:8080/"
        },
        "id": "id_3G8eEciBF",
        "outputId": "b34c2993-a028-4c81-9be5-7028877f086b"
      },
      "source": [
        "method4 = \"http://api.repo.nypl.org/api/v1/items/cd0fd890-b0de-0133-ad22-00505686d14e?page=1&per_page=20\"\n",
        "data = fetchData(method4)\n",
        "# print(json.dumps(data))\n",
        "print(\">> total children captures:\", data['numResults'])\n",
        "for capture in data['capture']:\n",
        "  print(capture)"
      ],
      "execution_count": null,
      "outputs": [
        {
          "output_type": "stream",
          "text": [
            ">> total children captures: 190554\n",
            "{'uuid': '30a7d9c0-eee9-0133-86a0-00505686a51c', 'imageLinks': {'imageLink': ['http://images.nypl.org/index.php?id=5732648&t=w&download=1&suffix=30a7d9c0-eee9-0133-86a0-00505686a51c.001', 'http://images.nypl.org/index.php?id=5732648&t=r&download=1&suffix=30a7d9c0-eee9-0133-86a0-00505686a51c.001', 'http://images.nypl.org/index.php?id=5732648&t=t&download=1&suffix=30a7d9c0-eee9-0133-86a0-00505686a51c.001', 'http://images.nypl.org/index.php?id=5732648&t=b&download=1&suffix=30a7d9c0-eee9-0133-86a0-00505686a51c.001', 'http://images.nypl.org/index.php?id=5732648&t=f&download=1&suffix=30a7d9c0-eee9-0133-86a0-00505686a51c.001']}, 'apiUri': 'http://api.repo.nypl.org/api/v1/items/mods/30a7d9c0-eee9-0133-86a0-00505686a51c', 'typeOfResource': 'text', 'imageID': '5732648', 'sortString': '0000000001|0000000001|0000000001|0000000001', 'itemLink': 'http://digitalcollections.nypl.org/items/30a7d9c0-eee9-0133-86a0-00505686a51c', 'highResLink': 'http://link.nypl.org/td8Uqe_PTTqOb01tCkziuAu', 'dateDigitized': '2016-08-11T17:11:53Z', 'rightsStatement': 'The New York Public Library believes that this item is in the public domain under the laws of the United States, but did not make a determination as to its copyright status under the copyright laws of other countries. This item may not be in the public domain under the laws of other countries. Though not required, if you want to credit us as the source, please use the following statement, \"From The New York Public Library,\" and provide a link back to the item on our Digital Collections site. Doing so helps us track how our collection is used and helps justify freely releasing even more content in the future.', 'rightsStatementURI': 'http://rightsstatements.org/vocab/NoC-US/1.0/'}\n",
            "{'uuid': '30c6b2e0-eee9-0133-026c-00505686a51c', 'imageLinks': {'imageLink': ['http://images.nypl.org/index.php?id=5732649&t=w&download=1&suffix=30c6b2e0-eee9-0133-026c-00505686a51c.001', 'http://images.nypl.org/index.php?id=5732649&t=r&download=1&suffix=30c6b2e0-eee9-0133-026c-00505686a51c.001', 'http://images.nypl.org/index.php?id=5732649&t=t&download=1&suffix=30c6b2e0-eee9-0133-026c-00505686a51c.001', 'http://images.nypl.org/index.php?id=5732649&t=b&download=1&suffix=30c6b2e0-eee9-0133-026c-00505686a51c.001', 'http://images.nypl.org/index.php?id=5732649&t=f&download=1&suffix=30c6b2e0-eee9-0133-026c-00505686a51c.001']}, 'apiUri': 'http://api.repo.nypl.org/api/v1/items/mods/30c6b2e0-eee9-0133-026c-00505686a51c', 'typeOfResource': 'text', 'imageID': '5732649', 'sortString': '0000000001|0000000001|0000000001|0000000002', 'itemLink': 'http://digitalcollections.nypl.org/items/30c6b2e0-eee9-0133-026c-00505686a51c', 'highResLink': 'http://link.nypl.org/M9KIb93eTKS6Eut2yPM_wAi', 'dateDigitized': '2016-08-11T17:11:53Z', 'rightsStatement': 'The New York Public Library believes that this item is in the public domain under the laws of the United States, but did not make a determination as to its copyright status under the copyright laws of other countries. This item may not be in the public domain under the laws of other countries. Though not required, if you want to credit us as the source, please use the following statement, \"From The New York Public Library,\" and provide a link back to the item on our Digital Collections site. Doing so helps us track how our collection is used and helps justify freely releasing even more content in the future.', 'rightsStatementURI': 'http://rightsstatements.org/vocab/NoC-US/1.0/'}\n",
            "{'uuid': '30df81e0-eee9-0133-766c-00505686a51c', 'imageLinks': {'imageLink': ['http://images.nypl.org/index.php?id=5732650&t=w&download=1&suffix=30df81e0-eee9-0133-766c-00505686a51c.001', 'http://images.nypl.org/index.php?id=5732650&t=r&download=1&suffix=30df81e0-eee9-0133-766c-00505686a51c.001', 'http://images.nypl.org/index.php?id=5732650&t=t&download=1&suffix=30df81e0-eee9-0133-766c-00505686a51c.001', 'http://images.nypl.org/index.php?id=5732650&t=b&download=1&suffix=30df81e0-eee9-0133-766c-00505686a51c.001', 'http://images.nypl.org/index.php?id=5732650&t=f&download=1&suffix=30df81e0-eee9-0133-766c-00505686a51c.001']}, 'apiUri': 'http://api.repo.nypl.org/api/v1/items/mods/30df81e0-eee9-0133-766c-00505686a51c', 'typeOfResource': 'text', 'imageID': '5732650', 'sortString': '0000000001|0000000001|0000000001|0000000003', 'itemLink': 'http://digitalcollections.nypl.org/items/30df81e0-eee9-0133-766c-00505686a51c', 'highResLink': 'http://link.nypl.org/CyWLjJ4PSPmljbpv1z1dZQc', 'dateDigitized': '2016-08-11T17:11:53Z', 'rightsStatement': 'The New York Public Library believes that this item is in the public domain under the laws of the United States, but did not make a determination as to its copyright status under the copyright laws of other countries. This item may not be in the public domain under the laws of other countries. Though not required, if you want to credit us as the source, please use the following statement, \"From The New York Public Library,\" and provide a link back to the item on our Digital Collections site. Doing so helps us track how our collection is used and helps justify freely releasing even more content in the future.', 'rightsStatementURI': 'http://rightsstatements.org/vocab/NoC-US/1.0/'}\n",
            "{'uuid': '30f781e0-eee9-0133-47d8-00505686a51c', 'imageLinks': {'imageLink': ['http://images.nypl.org/index.php?id=5732651&t=w&download=1&suffix=30f781e0-eee9-0133-47d8-00505686a51c.001', 'http://images.nypl.org/index.php?id=5732651&t=r&download=1&suffix=30f781e0-eee9-0133-47d8-00505686a51c.001', 'http://images.nypl.org/index.php?id=5732651&t=t&download=1&suffix=30f781e0-eee9-0133-47d8-00505686a51c.001', 'http://images.nypl.org/index.php?id=5732651&t=b&download=1&suffix=30f781e0-eee9-0133-47d8-00505686a51c.001', 'http://images.nypl.org/index.php?id=5732651&t=f&download=1&suffix=30f781e0-eee9-0133-47d8-00505686a51c.001']}, 'apiUri': 'http://api.repo.nypl.org/api/v1/items/mods/30f781e0-eee9-0133-47d8-00505686a51c', 'typeOfResource': 'text', 'imageID': '5732651', 'sortString': '0000000001|0000000001|0000000001|0000000004', 'itemLink': 'http://digitalcollections.nypl.org/items/30f781e0-eee9-0133-47d8-00505686a51c', 'highResLink': 'http://link.nypl.org/1BDylutaSEuoJMcu6xUyJgr', 'dateDigitized': '2016-08-11T17:11:53Z', 'rightsStatement': 'The New York Public Library believes that this item is in the public domain under the laws of the United States, but did not make a determination as to its copyright status under the copyright laws of other countries. This item may not be in the public domain under the laws of other countries. Though not required, if you want to credit us as the source, please use the following statement, \"From The New York Public Library,\" and provide a link back to the item on our Digital Collections site. Doing so helps us track how our collection is used and helps justify freely releasing even more content in the future.', 'rightsStatementURI': 'http://rightsstatements.org/vocab/NoC-US/1.0/'}\n",
            "{'uuid': '310fdd10-eee9-0133-1392-00505686a51c', 'imageLinks': {'imageLink': ['http://images.nypl.org/index.php?id=5732652&t=w&download=1&suffix=310fdd10-eee9-0133-1392-00505686a51c.001', 'http://images.nypl.org/index.php?id=5732652&t=r&download=1&suffix=310fdd10-eee9-0133-1392-00505686a51c.001', 'http://images.nypl.org/index.php?id=5732652&t=t&download=1&suffix=310fdd10-eee9-0133-1392-00505686a51c.001', 'http://images.nypl.org/index.php?id=5732652&t=b&download=1&suffix=310fdd10-eee9-0133-1392-00505686a51c.001', 'http://images.nypl.org/index.php?id=5732652&t=f&download=1&suffix=310fdd10-eee9-0133-1392-00505686a51c.001']}, 'apiUri': 'http://api.repo.nypl.org/api/v1/items/mods/310fdd10-eee9-0133-1392-00505686a51c', 'typeOfResource': 'text', 'imageID': '5732652', 'sortString': '0000000001|0000000001|0000000001|0000000005', 'itemLink': 'http://digitalcollections.nypl.org/items/310fdd10-eee9-0133-1392-00505686a51c', 'highResLink': 'http://link.nypl.org/AdTT-t1VQFuIofBrLhu88gN', 'dateDigitized': '2016-08-11T17:11:53Z', 'rightsStatement': 'The New York Public Library believes that this item is in the public domain under the laws of the United States, but did not make a determination as to its copyright status under the copyright laws of other countries. This item may not be in the public domain under the laws of other countries. Though not required, if you want to credit us as the source, please use the following statement, \"From The New York Public Library,\" and provide a link back to the item on our Digital Collections site. Doing so helps us track how our collection is used and helps justify freely releasing even more content in the future.', 'rightsStatementURI': 'http://rightsstatements.org/vocab/NoC-US/1.0/'}\n",
            "{'uuid': '312784b0-eee9-0133-1bd2-00505686a51c', 'imageLinks': {'imageLink': ['http://images.nypl.org/index.php?id=5732653&t=w&download=1&suffix=312784b0-eee9-0133-1bd2-00505686a51c.001', 'http://images.nypl.org/index.php?id=5732653&t=r&download=1&suffix=312784b0-eee9-0133-1bd2-00505686a51c.001', 'http://images.nypl.org/index.php?id=5732653&t=t&download=1&suffix=312784b0-eee9-0133-1bd2-00505686a51c.001', 'http://images.nypl.org/index.php?id=5732653&t=b&download=1&suffix=312784b0-eee9-0133-1bd2-00505686a51c.001', 'http://images.nypl.org/index.php?id=5732653&t=f&download=1&suffix=312784b0-eee9-0133-1bd2-00505686a51c.001']}, 'apiUri': 'http://api.repo.nypl.org/api/v1/items/mods/312784b0-eee9-0133-1bd2-00505686a51c', 'typeOfResource': 'text', 'imageID': '5732653', 'sortString': '0000000001|0000000001|0000000001|0000000006', 'itemLink': 'http://digitalcollections.nypl.org/items/312784b0-eee9-0133-1bd2-00505686a51c', 'highResLink': 'http://link.nypl.org/14ceWYHaRaacb-ZNFMto0wv', 'dateDigitized': '2016-08-11T17:11:53Z', 'rightsStatement': 'The New York Public Library believes that this item is in the public domain under the laws of the United States, but did not make a determination as to its copyright status under the copyright laws of other countries. This item may not be in the public domain under the laws of other countries. Though not required, if you want to credit us as the source, please use the following statement, \"From The New York Public Library,\" and provide a link back to the item on our Digital Collections site. Doing so helps us track how our collection is used and helps justify freely releasing even more content in the future.', 'rightsStatementURI': 'http://rightsstatements.org/vocab/NoC-US/1.0/'}\n",
            "{'uuid': '313eae30-eee9-0133-0b5f-00505686a51c', 'imageLinks': {'imageLink': ['http://images.nypl.org/index.php?id=5732654&t=w&download=1&suffix=313eae30-eee9-0133-0b5f-00505686a51c.001', 'http://images.nypl.org/index.php?id=5732654&t=r&download=1&suffix=313eae30-eee9-0133-0b5f-00505686a51c.001', 'http://images.nypl.org/index.php?id=5732654&t=t&download=1&suffix=313eae30-eee9-0133-0b5f-00505686a51c.001', 'http://images.nypl.org/index.php?id=5732654&t=b&download=1&suffix=313eae30-eee9-0133-0b5f-00505686a51c.001', 'http://images.nypl.org/index.php?id=5732654&t=f&download=1&suffix=313eae30-eee9-0133-0b5f-00505686a51c.001']}, 'apiUri': 'http://api.repo.nypl.org/api/v1/items/mods/313eae30-eee9-0133-0b5f-00505686a51c', 'typeOfResource': 'text', 'imageID': '5732654', 'sortString': '0000000001|0000000001|0000000001|0000000007', 'itemLink': 'http://digitalcollections.nypl.org/items/313eae30-eee9-0133-0b5f-00505686a51c', 'highResLink': 'http://link.nypl.org/WA9YWhruQzCKMai14CrD9AY', 'dateDigitized': '2016-08-11T17:11:53Z', 'rightsStatement': 'The New York Public Library believes that this item is in the public domain under the laws of the United States, but did not make a determination as to its copyright status under the copyright laws of other countries. This item may not be in the public domain under the laws of other countries. Though not required, if you want to credit us as the source, please use the following statement, \"From The New York Public Library,\" and provide a link back to the item on our Digital Collections site. Doing so helps us track how our collection is used and helps justify freely releasing even more content in the future.', 'rightsStatementURI': 'http://rightsstatements.org/vocab/NoC-US/1.0/'}\n",
            "{'uuid': '31564460-eee9-0133-bc27-00505686a51c', 'imageLinks': {'imageLink': ['http://images.nypl.org/index.php?id=5732655&t=w&download=1&suffix=31564460-eee9-0133-bc27-00505686a51c.001', 'http://images.nypl.org/index.php?id=5732655&t=r&download=1&suffix=31564460-eee9-0133-bc27-00505686a51c.001', 'http://images.nypl.org/index.php?id=5732655&t=t&download=1&suffix=31564460-eee9-0133-bc27-00505686a51c.001', 'http://images.nypl.org/index.php?id=5732655&t=b&download=1&suffix=31564460-eee9-0133-bc27-00505686a51c.001', 'http://images.nypl.org/index.php?id=5732655&t=f&download=1&suffix=31564460-eee9-0133-bc27-00505686a51c.001']}, 'apiUri': 'http://api.repo.nypl.org/api/v1/items/mods/31564460-eee9-0133-bc27-00505686a51c', 'typeOfResource': 'text', 'imageID': '5732655', 'sortString': '0000000001|0000000001|0000000001|0000000008', 'itemLink': 'http://digitalcollections.nypl.org/items/31564460-eee9-0133-bc27-00505686a51c', 'highResLink': 'http://link.nypl.org/bjp5j3GeSyWyt8pODs5UlAv', 'dateDigitized': '2016-08-11T17:11:53Z', 'rightsStatement': 'The New York Public Library believes that this item is in the public domain under the laws of the United States, but did not make a determination as to its copyright status under the copyright laws of other countries. This item may not be in the public domain under the laws of other countries. Though not required, if you want to credit us as the source, please use the following statement, \"From The New York Public Library,\" and provide a link back to the item on our Digital Collections site. Doing so helps us track how our collection is used and helps justify freely releasing even more content in the future.', 'rightsStatementURI': 'http://rightsstatements.org/vocab/NoC-US/1.0/'}\n",
            "{'uuid': '316eae50-eee9-0133-3019-00505686a51c', 'imageLinks': {'imageLink': ['http://images.nypl.org/index.php?id=5732656&t=w&download=1&suffix=316eae50-eee9-0133-3019-00505686a51c.001', 'http://images.nypl.org/index.php?id=5732656&t=r&download=1&suffix=316eae50-eee9-0133-3019-00505686a51c.001', 'http://images.nypl.org/index.php?id=5732656&t=t&download=1&suffix=316eae50-eee9-0133-3019-00505686a51c.001', 'http://images.nypl.org/index.php?id=5732656&t=b&download=1&suffix=316eae50-eee9-0133-3019-00505686a51c.001', 'http://images.nypl.org/index.php?id=5732656&t=f&download=1&suffix=316eae50-eee9-0133-3019-00505686a51c.001']}, 'apiUri': 'http://api.repo.nypl.org/api/v1/items/mods/316eae50-eee9-0133-3019-00505686a51c', 'typeOfResource': 'text', 'imageID': '5732656', 'sortString': '0000000001|0000000001|0000000001|0000000009', 'itemLink': 'http://digitalcollections.nypl.org/items/316eae50-eee9-0133-3019-00505686a51c', 'highResLink': 'http://link.nypl.org/P6Yd6lJuSHu6A-64bKK6rA7', 'dateDigitized': '2016-08-11T17:11:53Z', 'rightsStatement': 'The New York Public Library believes that this item is in the public domain under the laws of the United States, but did not make a determination as to its copyright status under the copyright laws of other countries. This item may not be in the public domain under the laws of other countries. Though not required, if you want to credit us as the source, please use the following statement, \"From The New York Public Library,\" and provide a link back to the item on our Digital Collections site. Doing so helps us track how our collection is used and helps justify freely releasing even more content in the future.', 'rightsStatementURI': 'http://rightsstatements.org/vocab/NoC-US/1.0/'}\n",
            "{'uuid': '31862cb0-eee9-0133-d0f1-00505686a51c', 'imageLinks': {'imageLink': ['http://images.nypl.org/index.php?id=5732657&t=w&download=1&suffix=31862cb0-eee9-0133-d0f1-00505686a51c.001', 'http://images.nypl.org/index.php?id=5732657&t=r&download=1&suffix=31862cb0-eee9-0133-d0f1-00505686a51c.001', 'http://images.nypl.org/index.php?id=5732657&t=t&download=1&suffix=31862cb0-eee9-0133-d0f1-00505686a51c.001', 'http://images.nypl.org/index.php?id=5732657&t=b&download=1&suffix=31862cb0-eee9-0133-d0f1-00505686a51c.001', 'http://images.nypl.org/index.php?id=5732657&t=f&download=1&suffix=31862cb0-eee9-0133-d0f1-00505686a51c.001']}, 'apiUri': 'http://api.repo.nypl.org/api/v1/items/mods/31862cb0-eee9-0133-d0f1-00505686a51c', 'typeOfResource': 'text', 'imageID': '5732657', 'sortString': '0000000001|0000000001|0000000001|0000000010', 'itemLink': 'http://digitalcollections.nypl.org/items/31862cb0-eee9-0133-d0f1-00505686a51c', 'highResLink': 'http://link.nypl.org/TPO0F_CrQpqPxz-NuBd7swP', 'dateDigitized': '2016-08-11T17:11:53Z', 'rightsStatement': 'The New York Public Library believes that this item is in the public domain under the laws of the United States, but did not make a determination as to its copyright status under the copyright laws of other countries. This item may not be in the public domain under the laws of other countries. Though not required, if you want to credit us as the source, please use the following statement, \"From The New York Public Library,\" and provide a link back to the item on our Digital Collections site. Doing so helps us track how our collection is used and helps justify freely releasing even more content in the future.', 'rightsStatementURI': 'http://rightsstatements.org/vocab/NoC-US/1.0/'}\n",
            "{'uuid': '3b18e330-b041-0135-e419-099995334d54', 'imageLinks': None, 'apiUri': 'http://api.repo.nypl.org/api/v1/items/mods/3b18e330-b041-0135-e419-099995334d54', 'typeOfResource': 'text', 'imageID': '57417462', 'sortString': '0000000001|0000000001|0000000002|0000000001', 'itemLink': 'http://digitalcollections.nypl.org/items/3b18e330-b041-0135-e419-099995334d54', 'dateDigitized': '2018-02-21T05:27:33Z', 'rightsStatement': 'The copyright and related rights status of this item has been reviewed by The New York Public Library, but we were unable to make a conclusive determination as to the copyright status of the item. You are free to use this Item in any way that is permitted by the copyright and related rights legislation that applies to your use.', 'rightsStatementURI': 'http://rightsstatements.org/vocab/UND/1.0/'}\n",
            "{'uuid': '3b2f9840-b041-0135-1d3e-45f5ce6d2267', 'imageLinks': None, 'apiUri': 'http://api.repo.nypl.org/api/v1/items/mods/3b2f9840-b041-0135-1d3e-45f5ce6d2267', 'typeOfResource': 'text', 'imageID': '57417463', 'sortString': '0000000001|0000000001|0000000002|0000000002', 'itemLink': 'http://digitalcollections.nypl.org/items/3b2f9840-b041-0135-1d3e-45f5ce6d2267', 'dateDigitized': '2018-02-21T05:27:33Z', 'rightsStatement': 'The copyright and related rights status of this item has been reviewed by The New York Public Library, but we were unable to make a conclusive determination as to the copyright status of the item. You are free to use this Item in any way that is permitted by the copyright and related rights legislation that applies to your use.', 'rightsStatementURI': 'http://rightsstatements.org/vocab/UND/1.0/'}\n",
            "{'uuid': '3b4482f0-b041-0135-6b86-6ff8273cfe9e', 'imageLinks': None, 'apiUri': 'http://api.repo.nypl.org/api/v1/items/mods/3b4482f0-b041-0135-6b86-6ff8273cfe9e', 'typeOfResource': 'text', 'imageID': '57417464', 'sortString': '0000000001|0000000001|0000000002|0000000003', 'itemLink': 'http://digitalcollections.nypl.org/items/3b4482f0-b041-0135-6b86-6ff8273cfe9e', 'dateDigitized': '2018-02-21T05:27:33Z', 'rightsStatement': 'The copyright and related rights status of this item has been reviewed by The New York Public Library, but we were unable to make a conclusive determination as to the copyright status of the item. You are free to use this Item in any way that is permitted by the copyright and related rights legislation that applies to your use.', 'rightsStatementURI': 'http://rightsstatements.org/vocab/UND/1.0/'}\n",
            "{'uuid': '3b599690-b041-0135-200d-15a897d53c1a', 'imageLinks': None, 'apiUri': 'http://api.repo.nypl.org/api/v1/items/mods/3b599690-b041-0135-200d-15a897d53c1a', 'typeOfResource': 'text', 'imageID': '57417465', 'sortString': '0000000001|0000000001|0000000002|0000000004', 'itemLink': 'http://digitalcollections.nypl.org/items/3b599690-b041-0135-200d-15a897d53c1a', 'dateDigitized': '2018-02-21T05:27:33Z', 'rightsStatement': 'The copyright and related rights status of this item has been reviewed by The New York Public Library, but we were unable to make a conclusive determination as to the copyright status of the item. You are free to use this Item in any way that is permitted by the copyright and related rights legislation that applies to your use.', 'rightsStatementURI': 'http://rightsstatements.org/vocab/UND/1.0/'}\n",
            "{'uuid': '3b6fcf40-b041-0135-e9bc-619d7d6cb4d3', 'imageLinks': None, 'apiUri': 'http://api.repo.nypl.org/api/v1/items/mods/3b6fcf40-b041-0135-e9bc-619d7d6cb4d3', 'typeOfResource': 'text', 'imageID': '57417466', 'sortString': '0000000001|0000000001|0000000002|0000000005', 'itemLink': 'http://digitalcollections.nypl.org/items/3b6fcf40-b041-0135-e9bc-619d7d6cb4d3', 'dateDigitized': '2018-02-21T05:27:33Z', 'rightsStatement': 'The copyright and related rights status of this item has been reviewed by The New York Public Library, but we were unable to make a conclusive determination as to the copyright status of the item. You are free to use this Item in any way that is permitted by the copyright and related rights legislation that applies to your use.', 'rightsStatementURI': 'http://rightsstatements.org/vocab/UND/1.0/'}\n",
            "{'uuid': '3b855ba0-b041-0135-6e31-1561cf34f896', 'imageLinks': None, 'apiUri': 'http://api.repo.nypl.org/api/v1/items/mods/3b855ba0-b041-0135-6e31-1561cf34f896', 'typeOfResource': 'text', 'imageID': '57417467', 'sortString': '0000000001|0000000001|0000000002|0000000006', 'itemLink': 'http://digitalcollections.nypl.org/items/3b855ba0-b041-0135-6e31-1561cf34f896', 'dateDigitized': '2018-02-21T05:27:33Z', 'rightsStatement': 'The copyright and related rights status of this item has been reviewed by The New York Public Library, but we were unable to make a conclusive determination as to the copyright status of the item. You are free to use this Item in any way that is permitted by the copyright and related rights legislation that applies to your use.', 'rightsStatementURI': 'http://rightsstatements.org/vocab/UND/1.0/'}\n",
            "{'uuid': '3b9b2cc0-b041-0135-9dd2-0357c27af3dd', 'imageLinks': None, 'apiUri': 'http://api.repo.nypl.org/api/v1/items/mods/3b9b2cc0-b041-0135-9dd2-0357c27af3dd', 'typeOfResource': 'text', 'imageID': '57417468', 'sortString': '0000000001|0000000001|0000000002|0000000007', 'itemLink': 'http://digitalcollections.nypl.org/items/3b9b2cc0-b041-0135-9dd2-0357c27af3dd', 'dateDigitized': '2018-02-21T05:27:33Z', 'rightsStatement': 'The copyright and related rights status of this item has been reviewed by The New York Public Library, but we were unable to make a conclusive determination as to the copyright status of the item. You are free to use this Item in any way that is permitted by the copyright and related rights legislation that applies to your use.', 'rightsStatementURI': 'http://rightsstatements.org/vocab/UND/1.0/'}\n",
            "{'uuid': '3bb0a570-b041-0135-1eeb-0955f6232eb7', 'imageLinks': None, 'apiUri': 'http://api.repo.nypl.org/api/v1/items/mods/3bb0a570-b041-0135-1eeb-0955f6232eb7', 'typeOfResource': 'text', 'imageID': '57417469', 'sortString': '0000000001|0000000001|0000000002|0000000008', 'itemLink': 'http://digitalcollections.nypl.org/items/3bb0a570-b041-0135-1eeb-0955f6232eb7', 'dateDigitized': '2018-02-21T05:27:33Z', 'rightsStatement': 'The copyright and related rights status of this item has been reviewed by The New York Public Library, but we were unable to make a conclusive determination as to the copyright status of the item. You are free to use this Item in any way that is permitted by the copyright and related rights legislation that applies to your use.', 'rightsStatementURI': 'http://rightsstatements.org/vocab/UND/1.0/'}\n",
            "{'uuid': '3bc7cd80-b041-0135-8ead-45ac352138b1', 'imageLinks': None, 'apiUri': 'http://api.repo.nypl.org/api/v1/items/mods/3bc7cd80-b041-0135-8ead-45ac352138b1', 'typeOfResource': 'text', 'imageID': '57417470', 'sortString': '0000000001|0000000001|0000000002|0000000009', 'itemLink': 'http://digitalcollections.nypl.org/items/3bc7cd80-b041-0135-8ead-45ac352138b1', 'dateDigitized': '2018-02-21T05:27:33Z', 'rightsStatement': 'The copyright and related rights status of this item has been reviewed by The New York Public Library, but we were unable to make a conclusive determination as to the copyright status of the item. You are free to use this Item in any way that is permitted by the copyright and related rights legislation that applies to your use.', 'rightsStatementURI': 'http://rightsstatements.org/vocab/UND/1.0/'}\n",
            "{'uuid': '3bde9e30-b041-0135-da3f-057fd61f9b54', 'imageLinks': None, 'apiUri': 'http://api.repo.nypl.org/api/v1/items/mods/3bde9e30-b041-0135-da3f-057fd61f9b54', 'typeOfResource': 'text', 'imageID': '57417471', 'sortString': '0000000001|0000000001|0000000002|0000000010', 'itemLink': 'http://digitalcollections.nypl.org/items/3bde9e30-b041-0135-da3f-057fd61f9b54', 'dateDigitized': '2018-02-21T05:27:33Z', 'rightsStatement': 'The copyright and related rights status of this item has been reviewed by The New York Public Library, but we were unable to make a conclusive determination as to the copyright status of the item. You are free to use this Item in any way that is permitted by the copyright and related rights legislation that applies to your use.', 'rightsStatementURI': 'http://rightsstatements.org/vocab/UND/1.0/'}\n"
          ],
          "name": "stdout"
        }
      ]
    },
    {
      "cell_type": "markdown",
      "metadata": {
        "id": "SGin-lM9uE6D"
      },
      "source": [
        "## Wait and Think"
      ]
    },
    {
      "cell_type": "markdown",
      "metadata": {
        "id": "jXWbJfmVubhm"
      },
      "source": [
        "1. Now we can access all children captures under uuid `cd0fd890-b0de-0133-ad22-00505686d14e`.\n",
        "1. We can find capture uuid and capture imageID in response.\n",
        "1. We Noticed some captures' `imageLinks` entry is missing, but we can guess the missing imageLink from known link formats. So uuid and imageID of a capture are all we need to build a imageLink."
      ]
    },
    {
      "cell_type": "markdown",
      "metadata": {
        "id": "QibWV0zm0Vdo"
      },
      "source": [
        "## Start our work"
      ]
    },
    {
      "cell_type": "code",
      "metadata": {
        "id": "qqmh5BOC0yyB"
      },
      "source": [
        "# Configurations\n",
        "targetUUID = 'cd0fd890-b0de-0133-ad22-00505686d14e'\n",
        "startpage = 1    # Default 1\n",
        "endpage = 3      # None for no page limit \n",
        "perpage = 500    # Maximum = 500"
      ],
      "execution_count": null,
      "outputs": []
    },
    {
      "cell_type": "code",
      "metadata": {
        "id": "01goPPWIgMmD",
        "colab": {
          "base_uri": "https://localhost:8080/"
        },
        "outputId": "663d0dd8-7c9e-40b4-a343-f947e8503028"
      },
      "source": [
        "import time\n",
        "import traceback\n",
        "import pandas as pd\n",
        "\n",
        "# Prepare variables\n",
        "page = startpage\n",
        "captures = []\n",
        "error_uris = []\n",
        "error_count = 0\n",
        "\n",
        "# Start the loop\n",
        "while(True):\n",
        "  try:\n",
        "    turl = \"http://api.repo.nypl.org/api/v1/items/{uuid}?page={page}&per_page={pp}\".format(uuid=targetUUID, page=page, pp=perpage)\n",
        "    data = fetchData(turl)\n",
        "    nres = len(data['capture'])\n",
        "    for item in data['capture']:\n",
        "      capture ={\"type\": item['typeOfResource'], \"uuid\": item['uuid'], \"imageid\": item['imageID']}\n",
        "      captures.append(capture)\n",
        "    print(\"({}:{})\".format(page, len(captures)), end=\"\")\n",
        "    if nres < perpage or (endpage and page >= endpage):\n",
        "      raise StopIteration()\n",
        "  \n",
        "  except (StopIteration, ValueError):\n",
        "    print(\"\\nDone! Reached the end of collection(%d captures at page %d).\" % (len(captures), page))\n",
        "    if len(error_uris):\n",
        "      print(\"Some error occurred for the following uris, you can \")\n",
        "      for uri in error_uris:\n",
        "        print(uri[0], uri[1])\n",
        "    break\n",
        "  except Exception:\n",
        "    error_uris.append((turl, trackback.format_exc()))\n",
        "    print(\"\\nException while processing %s\" % turl, file=sys.stderr)\n",
        "    time.sleep(5)\n",
        "    error_count += 1\n",
        "    if error_count > 20:\n",
        "      print(\"Too many errors, stopping. we are at page %d now.\" % page)\n",
        "      for uri in error_uris:\n",
        "        print(uri[0], uri[1])\n",
        "      break\n",
        "  finally:\n",
        "    page += 1\n",
        "\n",
        "# Save our result\n",
        "df = pd.DataFrame(captures)\n",
        "df.shape\n",
        "df.to_csv(\"captures.csv\")\n",
        "print(\"Saved as captures.csv\")"
      ],
      "execution_count": null,
      "outputs": [
        {
          "output_type": "stream",
          "text": [
            "(1:500)(2:1000)(3:1500)\n",
            "Done! Reached the end of collection(1500 captures at page 3).\n",
            "Saved as captures.csv\n"
          ],
          "name": "stdout"
        }
      ]
    },
    {
      "cell_type": "code",
      "metadata": {
        "colab": {
          "base_uri": "https://localhost:8080/"
        },
        "id": "kISRljuc80wX",
        "outputId": "cfb91a15-60cc-4f30-ffc8-990326858aec"
      },
      "source": [
        "!ls -lh"
      ],
      "execution_count": null,
      "outputs": [
        {
          "output_type": "stream",
          "text": [
            "total 84K\n",
            "-rw-r--r-- 1 root root  80K Jul 20 05:09 captures.csv\n",
            "drwxr-xr-x 1 root root 4.0K Jul 16 13:20 sample_data\n"
          ],
          "name": "stdout"
        }
      ]
    },
    {
      "cell_type": "code",
      "metadata": {
        "colab": {
          "base_uri": "https://localhost:8080/",
          "height": 414
        },
        "id": "1k9qkG1I81Eu",
        "outputId": "74f00ddb-c55d-4820-9f27-2ffb7fecb74e"
      },
      "source": [
        "df"
      ],
      "execution_count": null,
      "outputs": [
        {
          "output_type": "execute_result",
          "data": {
            "text/html": [
              "<div>\n",
              "<style scoped>\n",
              "    .dataframe tbody tr th:only-of-type {\n",
              "        vertical-align: middle;\n",
              "    }\n",
              "\n",
              "    .dataframe tbody tr th {\n",
              "        vertical-align: top;\n",
              "    }\n",
              "\n",
              "    .dataframe thead th {\n",
              "        text-align: right;\n",
              "    }\n",
              "</style>\n",
              "<table border=\"1\" class=\"dataframe\">\n",
              "  <thead>\n",
              "    <tr style=\"text-align: right;\">\n",
              "      <th></th>\n",
              "      <th>type</th>\n",
              "      <th>uuid</th>\n",
              "      <th>imageid</th>\n",
              "    </tr>\n",
              "  </thead>\n",
              "  <tbody>\n",
              "    <tr>\n",
              "      <th>0</th>\n",
              "      <td>text</td>\n",
              "      <td>30a7d9c0-eee9-0133-86a0-00505686a51c</td>\n",
              "      <td>5732648</td>\n",
              "    </tr>\n",
              "    <tr>\n",
              "      <th>1</th>\n",
              "      <td>text</td>\n",
              "      <td>30c6b2e0-eee9-0133-026c-00505686a51c</td>\n",
              "      <td>5732649</td>\n",
              "    </tr>\n",
              "    <tr>\n",
              "      <th>2</th>\n",
              "      <td>text</td>\n",
              "      <td>30df81e0-eee9-0133-766c-00505686a51c</td>\n",
              "      <td>5732650</td>\n",
              "    </tr>\n",
              "    <tr>\n",
              "      <th>3</th>\n",
              "      <td>text</td>\n",
              "      <td>30f781e0-eee9-0133-47d8-00505686a51c</td>\n",
              "      <td>5732651</td>\n",
              "    </tr>\n",
              "    <tr>\n",
              "      <th>4</th>\n",
              "      <td>text</td>\n",
              "      <td>310fdd10-eee9-0133-1392-00505686a51c</td>\n",
              "      <td>5732652</td>\n",
              "    </tr>\n",
              "    <tr>\n",
              "      <th>...</th>\n",
              "      <td>...</td>\n",
              "      <td>...</td>\n",
              "      <td>...</td>\n",
              "    </tr>\n",
              "    <tr>\n",
              "      <th>1495</th>\n",
              "      <td>text</td>\n",
              "      <td>6e8ff140-e962-0133-e88e-00505686a51c</td>\n",
              "      <td>5706493</td>\n",
              "    </tr>\n",
              "    <tr>\n",
              "      <th>1496</th>\n",
              "      <td>text</td>\n",
              "      <td>6ea68f00-e962-0133-9fa4-00505686a51c</td>\n",
              "      <td>5706494</td>\n",
              "    </tr>\n",
              "    <tr>\n",
              "      <th>1497</th>\n",
              "      <td>text</td>\n",
              "      <td>6ebc78b0-e962-0133-8101-00505686a51c</td>\n",
              "      <td>5706495</td>\n",
              "    </tr>\n",
              "    <tr>\n",
              "      <th>1498</th>\n",
              "      <td>text</td>\n",
              "      <td>6ed31430-e962-0133-238d-00505686a51c</td>\n",
              "      <td>5706496</td>\n",
              "    </tr>\n",
              "    <tr>\n",
              "      <th>1499</th>\n",
              "      <td>text</td>\n",
              "      <td>6eea0940-e962-0133-5bf3-00505686a51c</td>\n",
              "      <td>5706497</td>\n",
              "    </tr>\n",
              "  </tbody>\n",
              "</table>\n",
              "<p>1500 rows × 3 columns</p>\n",
              "</div>"
            ],
            "text/plain": [
              "      type                                  uuid  imageid\n",
              "0     text  30a7d9c0-eee9-0133-86a0-00505686a51c  5732648\n",
              "1     text  30c6b2e0-eee9-0133-026c-00505686a51c  5732649\n",
              "2     text  30df81e0-eee9-0133-766c-00505686a51c  5732650\n",
              "3     text  30f781e0-eee9-0133-47d8-00505686a51c  5732651\n",
              "4     text  310fdd10-eee9-0133-1392-00505686a51c  5732652\n",
              "...    ...                                   ...      ...\n",
              "1495  text  6e8ff140-e962-0133-e88e-00505686a51c  5706493\n",
              "1496  text  6ea68f00-e962-0133-9fa4-00505686a51c  5706494\n",
              "1497  text  6ebc78b0-e962-0133-8101-00505686a51c  5706495\n",
              "1498  text  6ed31430-e962-0133-238d-00505686a51c  5706496\n",
              "1499  text  6eea0940-e962-0133-5bf3-00505686a51c  5706497\n",
              "\n",
              "[1500 rows x 3 columns]"
            ]
          },
          "metadata": {
            "tags": []
          },
          "execution_count": 11
        }
      ]
    },
    {
      "cell_type": "markdown",
      "metadata": {
        "id": "gu3V1qjuhBax"
      },
      "source": [
        "## Download images1"
      ]
    },
    {
      "cell_type": "code",
      "metadata": {
        "id": "BesjbNu-hTnC"
      },
      "source": [
        "import os\n",
        "from threading import Thread\n",
        "import queue\n",
        "import mimetypes\n",
        "\n",
        "quality = \"w\"\n",
        "threadnum = 5\n",
        "imgslimit = None  # maximum images\n",
        "\n",
        "def down():\n",
        "  while(True):\n",
        "    try:\n",
        "      if stopFlag:\n",
        "        break\n",
        "      cap = q.get(timeout=1)\n",
        "      uri = \"http://images.nypl.org/index.php?id={imgid}&t={tq}&download=1&suffix={uuid}.001\".format(imgid=cap['imageid'],tq=quality, uuid=cap['uuid'])\n",
        "      r = requests.get(uri) \n",
        "\n",
        "      extension = mimetypes.guess_extension(r.headers['content-type'])\n",
        "      extension = \".jpg\" if not extension else extension\n",
        "      filename = \"{}{}\".format(cap['imageid'], extension)\n",
        "      folder = \"./imgs/%s\" % (cap['imageid'][-2:]) # use folder named its last 2 digits\n",
        "      if not os.path.exists(folder):\n",
        "        os.makedirs(folder)\n",
        "      \n",
        "      with open(os.path.join(folder, filename), 'wb') as f:\n",
        "          f.write(r.content)\n",
        "      \n",
        "      donenum = len(captures) - q.qsize()\n",
        "      if donenum % 19 == 0: \n",
        "        print(\"last: %14s, %5d, %.1f%%\" % (filename, donenum, donenum/len(captures)*100) )\n",
        "    except queue.Empty:\n",
        "      break\n",
        "\n",
        "q = queue.Queue()\n",
        "threads = []\n",
        "stopFlag = False\n",
        "\n",
        "for capture in captures:\n",
        "  q.put(capture)\n",
        "  if imgslimit and q.qsize() == imgslimit: # apply the imgslimit\n",
        "    break\n",
        "\n",
        "for i in range(threadnum):\n",
        "  thread = Thread(target=down)\n",
        "  threads.append(thread)\n",
        "  thread.setDaemon(True)\n",
        "  thread.start()\n",
        "\n",
        "try:\n",
        "  for thread in threads:\n",
        "    thread.join() # wait until they have done\n",
        "except KeyboardInterrupt:\n",
        "  stopFlag = True"
      ],
      "execution_count": null,
      "outputs": []
    },
    {
      "cell_type": "code",
      "metadata": {
        "id": "7ryvILXwhgd8"
      },
      "source": [
        "from google.colab import drive\n",
        "drive.mount('/content/drive')"
      ],
      "execution_count": null,
      "outputs": []
    },
    {
      "cell_type": "code",
      "metadata": {
        "id": "4_cOYeI0hjKl"
      },
      "source": [
        "!mkdir -p /content/drive/MyDrive/colabimgs/20210720\n",
        "!cp -r imgs /content/drive/MyDrive/colabimgs/20210720"
      ],
      "execution_count": null,
      "outputs": []
    },
    {
      "cell_type": "code",
      "metadata": {
        "id": "TnOHTOXMhl2V"
      },
      "source": [
        "!rm -rf imgs"
      ],
      "execution_count": null,
      "outputs": []
    },
    {
      "cell_type": "markdown",
      "metadata": {
        "id": "M-0-xHInDreB"
      },
      "source": [
        "## Download images2(Use the given csv file)"
      ]
    },
    {
      "cell_type": "code",
      "metadata": {
        "id": "tsZ56SYukObA"
      },
      "source": [
        "import time\n",
        "import traceback\n",
        "import pandas as pd\n",
        "import requests\n",
        "import json\n",
        "import sys"
      ],
      "execution_count": null,
      "outputs": []
    },
    {
      "cell_type": "code",
      "metadata": {
        "colab": {
          "base_uri": "https://localhost:8080/"
        },
        "id": "mK1HygbSPNRQ",
        "outputId": "81e729ff-e36a-4b61-9eec-ce3faa5ed343"
      },
      "source": [
        "from google.colab import drive\n",
        "drive.mount('/content/drive')\n",
        "dates = pd.read_csv(\"/content/drive/My Drive/century_ids1.csv\")"
      ],
      "execution_count": null,
      "outputs": [
        {
          "output_type": "stream",
          "text": [
            "Mounted at /content/drive\n"
          ],
          "name": "stdout"
        }
      ]
    },
    {
      "cell_type": "code",
      "metadata": {
        "colab": {
          "base_uri": "https://localhost:8080/",
          "height": 422
        },
        "id": "ky2q50jFaEO1",
        "outputId": "69ca60c9-9542-47e5-ea79-9e60eeb61696"
      },
      "source": [
        "dates"
      ],
      "execution_count": null,
      "outputs": [
        {
          "output_type": "execute_result",
          "data": {
            "text/html": [
              "<div>\n",
              "<style scoped>\n",
              "    .dataframe tbody tr th:only-of-type {\n",
              "        vertical-align: middle;\n",
              "    }\n",
              "\n",
              "    .dataframe tbody tr th {\n",
              "        vertical-align: top;\n",
              "    }\n",
              "\n",
              "    .dataframe thead th {\n",
              "        text-align: right;\n",
              "    }\n",
              "</style>\n",
              "<table border=\"1\" class=\"dataframe\">\n",
              "  <thead>\n",
              "    <tr style=\"text-align: right;\">\n",
              "      <th></th>\n",
              "      <th>imageid</th>\n",
              "    </tr>\n",
              "  </thead>\n",
              "  <tbody>\n",
              "    <tr>\n",
              "      <th>0</th>\n",
              "      <td>57797548</td>\n",
              "    </tr>\n",
              "    <tr>\n",
              "      <th>1</th>\n",
              "      <td>57797570</td>\n",
              "    </tr>\n",
              "    <tr>\n",
              "      <th>2</th>\n",
              "      <td>57797551</td>\n",
              "    </tr>\n",
              "    <tr>\n",
              "      <th>3</th>\n",
              "      <td>57797589</td>\n",
              "    </tr>\n",
              "    <tr>\n",
              "      <th>4</th>\n",
              "      <td>57797573</td>\n",
              "    </tr>\n",
              "    <tr>\n",
              "      <th>...</th>\n",
              "      <td>...</td>\n",
              "    </tr>\n",
              "    <tr>\n",
              "      <th>203311</th>\n",
              "      <td>57797010</td>\n",
              "    </tr>\n",
              "    <tr>\n",
              "      <th>203312</th>\n",
              "      <td>57797017</td>\n",
              "    </tr>\n",
              "    <tr>\n",
              "      <th>203313</th>\n",
              "      <td>57797026</td>\n",
              "    </tr>\n",
              "    <tr>\n",
              "      <th>203314</th>\n",
              "      <td>57797035</td>\n",
              "    </tr>\n",
              "    <tr>\n",
              "      <th>203315</th>\n",
              "      <td>57368185</td>\n",
              "    </tr>\n",
              "  </tbody>\n",
              "</table>\n",
              "<p>203316 rows × 1 columns</p>\n",
              "</div>"
            ],
            "text/plain": [
              "         imageid\n",
              "0       57797548\n",
              "1       57797570\n",
              "2       57797551\n",
              "3       57797589\n",
              "4       57797573\n",
              "...          ...\n",
              "203311  57797010\n",
              "203312  57797017\n",
              "203313  57797026\n",
              "203314  57797035\n",
              "203315  57368185\n",
              "\n",
              "[203316 rows x 1 columns]"
            ]
          },
          "metadata": {
            "tags": []
          },
          "execution_count": 4
        }
      ]
    },
    {
      "cell_type": "code",
      "metadata": {
        "colab": {
          "base_uri": "https://localhost:8080/"
        },
        "id": "cFE8ZnE797uZ",
        "outputId": "12d03144-f53f-43c7-ae0c-680e49c2dd10"
      },
      "source": [
        "import os\n",
        "from threading import Thread\n",
        "import queue\n",
        "import mimetypes\n",
        "\n",
        "quality = \"w\"\n",
        "threadnum = 5\n",
        "imgslimit = None  # maximum images\n",
        "\n",
        "def down():\n",
        "  while(True):\n",
        "    try:\n",
        "      if stopFlag:\n",
        "        break\n",
        "      cap = q.get(timeout=1)\n",
        "      uri = \"http://images.nypl.org/index.php?id={imgid}&t={tq}\".format(imgid=cap,tq=quality)\n",
        "      r = requests.get(uri) \n",
        "\n",
        "      extension = mimetypes.guess_extension(r.headers['content-type'])\n",
        "      extension = \".jpg\" if not extension else extension\n",
        "      filename = \"{}{}\".format(cap, extension)\n",
        "      folder = \"./imgs/%s\" % (cap[-2:]) # use folder named its last 2 digits\n",
        "      if not os.path.exists(folder):\n",
        "        os.makedirs(folder)\n",
        "      \n",
        "      with open(os.path.join(folder, filename), 'wb') as f:\n",
        "          f.write(r.content)\n",
        "      \n",
        "      donenum = len(dates.imageid) - q.qsize()\n",
        "      if donenum % 19 == 0: \n",
        "        print(\"last: %14s, %5d, %.1f%%\" % (filename, donenum, donenum/len(dates.imageid)*100) )\n",
        "    except queue.Empty:\n",
        "      break\n",
        "\n",
        "q = queue.Queue()\n",
        "threads = []\n",
        "stopFlag = False\n",
        "\n",
        "for date in dates.imageid:\n",
        "  #print(date)\n",
        "  q.put(date)\n",
        "  if imgslimit and q.qsize() == imgslimit: # apply the imgslimit\n",
        "    break\n",
        "#down()\n",
        "for i in range(threadnum):\n",
        "  thread = Thread(target=down)\n",
        "  threads.append(thread)\n",
        "  thread.setDaemon(True)\n",
        "  thread.start()\n",
        "\n",
        "try:\n",
        "  for thread in threads:\n",
        "    thread.join() # wait until they have done\n",
        "except KeyboardInterrupt:\n",
        "  stopFlag = True"
      ],
      "execution_count": null,
      "outputs": [
        {
          "output_type": "stream",
          "text": [
            "last:   57376049.jpg,    19, 0.0%\n",
            "last:   57376097.jpg,    38, 0.0%\n",
            "last:   56775158.jpg,    57, 0.0%\n",
            "last:   56775178.jpg,    76, 0.0%\n",
            "last:   56775217.jpg,    95, 0.0%\n",
            "last:   56775340.jpg,   114, 0.1%\n",
            "last:   56775383.jpg,   133, 0.1%\n",
            "last:   56775433.jpg,   152, 0.1%\n",
            "last:   56775497.jpg,   171, 0.1%\n",
            "last:   56775573.jpg,   190, 0.1%\n",
            "last:   56775642.jpg,   209, 0.1%\n",
            "last:   56775766.jpg,   228, 0.1%\n",
            "last:   56775924.jpg,   247, 0.1%\n",
            "last:   56775933.jpg,   266, 0.1%\n",
            "last:   56775882.jpg,   285, 0.1%\n",
            "last:   57376375.jpg,   304, 0.1%\n",
            "last:   56933025.jpg,   323, 0.2%\n",
            "last:   56933164.jpg,   342, 0.2%\n",
            "last:   56933055.jpg,   361, 0.2%\n",
            "last:   56933102.jpg,   380, 0.2%\n",
            "last:   56933112.jpg,   399, 0.2%\n",
            "last:   56933088.jpg,   418, 0.2%\n",
            "last:   56933134.jpg,   437, 0.2%\n",
            "last:   56933152.jpg,   456, 0.2%\n",
            "last:   56940091.jpg,   475, 0.2%\n",
            "last:   56940037.jpg,   494, 0.2%\n",
            "last:   56940255.jpg,   513, 0.3%\n"
          ],
          "name": "stdout"
        }
      ]
    },
    {
      "cell_type": "code",
      "metadata": {
        "id": "rAhBcsqrKXTK"
      },
      "source": [
        "!rm -rf imgs"
      ],
      "execution_count": null,
      "outputs": []
    },
    {
      "cell_type": "code",
      "metadata": {
        "id": "yIqWt0gTLU_s"
      },
      "source": [
        "!zip -r imgs.zip imgs > /dev/null\n",
        "!mkdir -p /content/drive/MyDrive/colabimgs/20210720\n",
        "!cp -r imgs.zip /content/drive/MyDrive/colabimgs/20210720"
      ],
      "execution_count": null,
      "outputs": []
    },
    {
      "cell_type": "code",
      "metadata": {
        "id": "YRLbLmE7Pbfy"
      },
      "source": [
        "!rm -rf imgs.zip"
      ],
      "execution_count": null,
      "outputs": []
    }
  ]
}